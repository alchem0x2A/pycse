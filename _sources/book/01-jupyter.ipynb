{
 "cells": [
  {
   "cell_type": "markdown",
   "id": "30308a94",
   "metadata": {},
   "source": [
    "# More about using Jupyter notebooks\n",
    "\n",
    "- KEYWORDS: jupyter\n"
   ]
  },
  {
   "cell_type": "markdown",
   "id": "a48e16ec",
   "metadata": {},
   "source": [
    "Goals today:\n",
    "\n",
    "-   Explore Jupyter\n",
    "-   Practice some Markdown\n",
    "-   Practice making and using functions\n",
    "-   Practice printing formatted strings\n",
    "\n",
    "There are two kinds of cells in Jupyter notebooks: Markdown and Code.\n",
    "\n"
   ]
  },
  {
   "cell_type": "markdown",
   "id": "dd597187",
   "metadata": {},
   "source": [
    "## Markdown\n",
    "\n"
   ]
  },
  {
   "cell_type": "markdown",
   "id": "136daf1a",
   "metadata": {},
   "source": [
    "Markdown is a lightweight markup language for text that is meant for humans to read.\n",
    "\n",
    "Double click on this cell to see how to make:\n",
    "\n",
    "1.  A\n",
    "2.  Numbered\n",
    "3.  List\n",
    "\n",
    "You can also make bulleted lists:\n",
    "\n",
    "-   A\n",
    "-   bulleted\n",
    "-   list\n",
    "    -   Including\n",
    "        -   different\n",
    "        -   levels\n",
    "\n",
    "Text that is **bold**, *italics*, <del>crossed-out</del>. Some <font color=\"red\">red text</font>.\n",
    "\n",
    "Math is written in LaTeX format ([https://en.wikibooks.org/wiki/LaTeX/Mathematics](https://en.wikibooks.org/wiki/LaTeX/Mathematics)). Consider:\n",
    "\n",
    "-   this fraction $\\frac{1}{2}$,\n",
    "-   square root $\\sqrt{3}$\n",
    "-   sum $\\sum_{i=1}^{10} t_i$\n",
    "-   A chemical formula: H$_2$O\n",
    "-   An integral $\\int_a^b f(x)dx$\n",
    "\n",
    "---\n",
    "\n",
    "You can see more details at [https://jupyter-notebook.readthedocs.io/en/stable/examples/Notebook/Working%20With%20Markdown%20Cells.html](https://jupyter-notebook.readthedocs.io/en/stable/examples/Notebook/Working%20With%20Markdown%20Cells.html).\n",
    "\n",
    "---\n",
    "\n",
    "You do not need to learn all of these right now. It will be useful to pay attention to what is in the notes. It will help you express your ideas more clearly.\n",
    "\n",
    "You can convert a cell to Markdown by pressing escape then m. You can convert it back to a Code cell by typing escape then y.\n",
    "\n"
   ]
  },
  {
   "cell_type": "code",
   "execution_count": 194,
   "id": "a62fae76",
   "metadata": {},
   "outputs": [
    {
     "data": {
      "image/png": "[encoded data removed]",
      "text/plain": [
       "<Figure size 640x480 with 1 Axes>"
      ]
     },
     "metadata": {},
     "output_type": "display_data"
    }
   ],
   "source": [
    "import matplotlib.pyplot as plt\n",
    "\n",
    "plt.plot([1, 2, 4, 8])\n",
    "plt.xlabel('x')\n",
    "plt.ylabel(r'$\\int_a^b f_x dx \\neq 1$');"
   ]
  },
  {
   "cell_type": "markdown",
   "id": "dc5caddb",
   "metadata": {},
   "source": [
    "## Headings and subheadings\n",
    "\n"
   ]
  },
  {
   "cell_type": "markdown",
   "id": "ffe15a8d",
   "metadata": {},
   "source": [
    "It can be helpful to organize your notebook into sections. You can use headings and subheadings to make logical sections. This makes it easier to read. Double click on the headings to see the syntax for making a heading.\n",
    "\n"
   ]
  },
  {
   "cell_type": "markdown",
   "id": "c5bcb471",
   "metadata": {},
   "source": [
    "### Subsubheadings\n",
    "\n"
   ]
  },
  {
   "cell_type": "markdown",
   "id": "5ae2530d",
   "metadata": {},
   "source": [
    "You can learn more about Markdown syntax at [https://jupyter-notebook.readthedocs.io/en/stable/examples/Notebook/Working%20With%20Markdown%20Cells.html](https://jupyter-notebook.readthedocs.io/en/stable/examples/Notebook/Working%20With%20Markdown%20Cells.html).\n",
    "\n"
   ]
  },
  {
   "cell_type": "markdown",
   "id": "55409836",
   "metadata": {},
   "source": [
    "## Keyboard shortcuts\n",
    "\n"
   ]
  },
  {
   "cell_type": "markdown",
   "id": "0df08036",
   "metadata": {},
   "source": [
    "You can do most things by clicking in cells and typing, or clicking on the menus. Eventually, you may want to learn some keyboard shortcuts to speed up your work.\n",
    "\n",
    "<div class=\"alert alert-warning\">\n",
    "You can access a list of keyboard shortcuts in the following ways:\n",
    "\n",
    "\n",
    "1.  Click on the keyboard icon\n",
    "2.  Windows/Linux: Type C-shift-p\n",
    "3.  Mac: Type Cmd-shift-p\n",
    "\n",
    "\n",
    "From the menus:\n",
    "Help -> Keyboard Shortcuts\n",
    "</div>\n",
    "\n",
    "You do not need to learn these if you don't want to; you can always use the mouse and menus.\n",
    "\n"
   ]
  },
  {
   "cell_type": "markdown",
   "id": "908b6827",
   "metadata": {},
   "source": [
    "## Running code\n",
    "\n"
   ]
  },
  {
   "cell_type": "markdown",
   "id": "61fdcffb",
   "metadata": {},
   "source": [
    "Jupyter notebooks serve two purposes:\n",
    "\n",
    "1.  To document your work\n",
    "2.  To run code\n",
    "\n",
    "It is important to have a basic understanding of how the notebooks work. The browser displays the notebook. The actual computations are run on a server on your computer. When you \"run\" a code cell, the code is sent to the server, and the server sends the results back to the browser where they are rendered.\n",
    "\n",
    "When you first open a notebook, *nothing* has been executed. If you try to execute cells out of order, you will get errors if anything in the cell depends on a previous cell. You should run the cells in order. Here are some ways to do that.\n",
    "\n",
    "1.  Starting in the first cell, click the Run button until you get to the end.\n",
    "2.  Starting in the first cell, click in the menu: Cell -> Run all\n",
    "3.  Starting in the first cell, type shift-Enter to run each cell and move to the next one.\n",
    "\n",
    "Occasionally, you may want to restart the server and rerun all the cells. Select the menu: Kernel -> Restart & Run all. If you run cells out of order, or something seems messed up for some reason, sometimes this fixes it. It also makes sure the output of each cell is consistent with running them in order from scratch.\n",
    "\n"
   ]
  },
  {
   "cell_type": "code",
   "execution_count": 195,
   "id": "c165b17f",
   "metadata": {},
   "outputs": [],
   "source": [
    "a = 5"
   ]
  },
  {
   "cell_type": "code",
   "execution_count": 196,
   "id": "010d7bc7",
   "metadata": {},
   "outputs": [
    {
     "data": {
      "text/plain": [
       "5"
      ]
     },
     "execution_count": 196,
     "metadata": {},
     "output_type": "execute_result"
    }
   ],
   "source": [
    "a"
   ]
  },
  {
   "cell_type": "code",
   "execution_count": 197,
   "id": "d1d886d5",
   "metadata": {},
   "outputs": [],
   "source": [
    "a = a + 1"
   ]
  },
  {
   "cell_type": "markdown",
   "id": "48e70303",
   "metadata": {},
   "source": [
    "### Debugging/getting help\n",
    "\n"
   ]
  },
  {
   "cell_type": "markdown",
   "id": "52184b9d",
   "metadata": {},
   "source": [
    "See the Help menu to access general documentation about the notebook and the main libraries we will be using. I would get familiar with their contents, but I would not try to read them all at once.\n",
    "\n",
    "You should be able to press Shift-tab after a command to get some documentation about the command.\n",
    "\n"
   ]
  },
  {
   "cell_type": "markdown",
   "id": "0fd85333",
   "metadata": {},
   "source": [
    "While debugging a cell, you should use C-Enter to run the cell so that you see the output, but your cursor stays in the cell so you can continue editing it. To go back to editing the cell, just press Enter. It is good practice to run cells whenever you think they should work correctly, because it is easier to debug the last few lines you wrote than a long block of lines. Let's work an example.\n",
    "\n",
    "Create a code cell that defines two variables $x=5$ and $y=4$, and then compute $x^2 + y^2$.\n",
    "\n"
   ]
  },
  {
   "cell_type": "code",
   "execution_count": 198,
   "id": "5bab2484",
   "metadata": {},
   "outputs": [
    {
     "data": {
      "text/plain": [
       "41"
      ]
     },
     "execution_count": 198,
     "metadata": {},
     "output_type": "execute_result"
    }
   ],
   "source": [
    "x = 5\n",
    "y = 4\n",
    "x**2 + y**2"
   ]
  },
  {
   "cell_type": "markdown",
   "id": "dcac3c65",
   "metadata": {},
   "source": [
    "When you are happy with the cell and its output, you can insert a new cell above or below it from the Insert menu or by typing:\n",
    "\n",
    "-   **Esc a enter:** insert a cell above and start editing it\n",
    "-   **Esc b enter:** insert a cell below and start editing it\n",
    "\n",
    "Alternatively, in the cell, type shift-enter to execute it one more time, and then move to the next cell (adds a new cell if you are at the end).\n",
    "\n",
    "Jupyter notebooks can act in unexpected ways if you evaluate the cells out of order. It can be very difficult to debug this. When that happens, you are often best off if you restart the kernel and execute the cells from the beginning.\n",
    "\n"
   ]
  },
  {
   "cell_type": "code",
   "execution_count": 199,
   "id": "c4f731c0",
   "metadata": {},
   "outputs": [],
   "source": [
    "a = 4"
   ]
  },
  {
   "cell_type": "code",
   "execution_count": 200,
   "id": "53360327",
   "metadata": {},
   "outputs": [],
   "source": [
    "a += 1  # this increments the value of a by one."
   ]
  },
  {
   "cell_type": "code",
   "execution_count": 201,
   "id": "da163ec3",
   "metadata": {},
   "outputs": [
    {
     "name": "stdout",
     "output_type": "stream",
     "text": [
      "5\n"
     ]
    }
   ],
   "source": [
    "print(a)"
   ]
  },
  {
   "cell_type": "code",
   "execution_count": 202,
   "id": "3cad6591",
   "metadata": {},
   "outputs": [],
   "source": [
    "while True:\n",
    "    break"
   ]
  },
  {
   "cell_type": "markdown",
   "id": "778189ac",
   "metadata": {},
   "source": [
    "## Functions\n",
    "\n"
   ]
  },
  {
   "cell_type": "markdown",
   "id": "d96e7b04",
   "metadata": {},
   "source": [
    "Functions are an important part of any programming language. They allow you to reuse code, and make programs more readable.\n",
    "\n"
   ]
  },
  {
   "cell_type": "markdown",
   "id": "d73dfad5",
   "metadata": {},
   "source": [
    "### Minimal definition of a function with one input\n",
    "\n"
   ]
  },
  {
   "cell_type": "markdown",
   "id": "77d93962",
   "metadata": {},
   "source": [
    "Functions are defined with the `def` keyword. You specify a name, and the arguments in parentheses, and end the line with a colon. The body of the function must be indented (conventionally by 4 spaces). The function ends when the indentation goes back down one level. You have to define what is returned from the function using the `return` keyword.\n",
    "\n",
    "Here is a minimal function definition that simply multiplies the input by two and returns it.\n",
    "\n"
   ]
  },
  {
   "cell_type": "code",
   "execution_count": 203,
   "id": "be74bcc0",
   "metadata": {},
   "outputs": [],
   "source": [
    "def f(x):\n",
    "    x = np.array(x)\n",
    "    z = x\n",
    "    y = z * 2\n",
    "    return y"
   ]
  },
  {
   "cell_type": "markdown",
   "id": "66986590",
   "metadata": {},
   "source": [
    "Let's evaluate our function with a few values:\n",
    "\n"
   ]
  },
  {
   "cell_type": "code",
   "execution_count": 204,
   "id": "a9e4cea5",
   "metadata": {},
   "outputs": [
    {
     "name": "stdout",
     "output_type": "stream",
     "text": [
      "2\n",
      "2.0\n",
      "[0 2]\n",
      "[0 2]\n",
      "[0 2]\n"
     ]
    }
   ],
   "source": [
    "# Try an integer, float, string, a list, an array (don't forget to import numpy first)\n",
    "import numpy as np\n",
    "print(f(1))\n",
    "print(f(1.0))\n",
    "#print(f('a'))\n",
    "print(f([0, 1]))\n",
    "print(f(np.array([0, 1])))\n",
    "print(f((0, 1)))"
   ]
  },
  {
   "cell_type": "markdown",
   "id": "70b3ae30",
   "metadata": {},
   "source": [
    "Python uses \"duck-typing\" to figure out what multiply by two means. That can lead to some surprising results when you use data types that were not intended for your function.\n",
    "\n",
    "Minimal is not always the most informative. You can add an optional documentation string like this.\n",
    "\n"
   ]
  },
  {
   "cell_type": "code",
   "execution_count": 205,
   "id": "9e3e5fd3",
   "metadata": {},
   "outputs": [
    {
     "name": "stdout",
     "output_type": "stream",
     "text": [
      "Hi there I was called with the argument 4\n"
     ]
    },
    {
     "data": {
      "text/plain": [
       "'44'"
      ]
     },
     "execution_count": 205,
     "metadata": {},
     "output_type": "execute_result"
    }
   ],
   "source": [
    "def f1(x):\n",
    "    # Optional, multiline documentation string\n",
    "    # x should be a number. It is still not an error to use a string or array.\n",
    "    y = x * 2\n",
    "    print(f'Hi there I was called with the argument {x}')\n",
    "    return y\n",
    "\n",
    "f1('4')"
   ]
  },
  {
   "cell_type": "code",
   "execution_count": 206,
   "id": "d20c4692",
   "metadata": {},
   "outputs": [],
   "source": [
    "def f2(x):\n",
    "    \"\"\"Optional, multiline documentation string\n",
    "    x should be a number. It is still not an error to use a string or array.\n",
    "    \"\"\"\n",
    "    y = x + 2\n",
    "    return y   \n"
   ]
  },
  {
   "cell_type": "code",
   "execution_count": 207,
   "id": "d0ee4d8f",
   "metadata": {},
   "outputs": [
    {
     "data": {
      "text/plain": [
       "([30, 30], [3])"
      ]
     },
     "execution_count": 207,
     "metadata": {},
     "output_type": "execute_result"
    }
   ],
   "source": [
    "def g(x):\n",
    "    A = [30]\n",
    "    x = 2 * A\n",
    "    return x\n",
    "\n",
    "A = [3]\n",
    "g(A), A"
   ]
  },
  {
   "cell_type": "markdown",
   "id": "67de520f",
   "metadata": {},
   "source": [
    "The input argument `x` is mandatory here, and has no default value.\n",
    "\n"
   ]
  },
  {
   "cell_type": "markdown",
   "id": "1792c154",
   "metadata": {},
   "source": [
    "### Functions with multiple arguments\n",
    "\n"
   ]
  },
  {
   "cell_type": "markdown",
   "id": "660de27a",
   "metadata": {},
   "source": [
    "Suppose you want a function where you can multiply the argument by a user-specified value, that defaults to 2. We can define a function with two arguments, where one is optional with a default value. The optional argument is sometimes called a parameter.\n",
    "\n"
   ]
  },
  {
   "cell_type": "code",
   "execution_count": 208,
   "id": "7a0d80aa",
   "metadata": {},
   "outputs": [],
   "source": [
    "def f(x, a=2):\n",
    "    # The next string is a one line documentation string. The comment here will\n",
    "    # not be visible in the help.\n",
    "    \"Return a * x. a is optional with default value of 2.\"\n",
    "    y = x * a\n",
    "    return y"
   ]
  },
  {
   "cell_type": "markdown",
   "id": "a2554a27",
   "metadata": {},
   "source": [
    "Now, there are several ways to evaluate this function. If you just provide the value of `x`, then the default value of `a` will be used.\n",
    "\n"
   ]
  },
  {
   "cell_type": "code",
   "execution_count": 209,
   "id": "740c5d54",
   "metadata": {},
   "outputs": [
    {
     "data": {
      "text/plain": [
       "4"
      ]
     },
     "execution_count": 209,
     "metadata": {},
     "output_type": "execute_result"
    }
   ],
   "source": [
    "f(2)  # x = 2, since a is not provided, the default a=2 is used"
   ]
  },
  {
   "cell_type": "markdown",
   "id": "5a190628",
   "metadata": {},
   "source": [
    "Here we use the position of each argument to define the arguments as x=2 and a=3.\n",
    "\n"
   ]
  },
  {
   "cell_type": "code",
   "execution_count": 210,
   "id": "7e2b1507",
   "metadata": {
    "tags": []
   },
   "outputs": [
    {
     "data": {
      "text/plain": [
       "6"
      ]
     },
     "execution_count": 210,
     "metadata": {},
     "output_type": "execute_result"
    }
   ],
   "source": [
    "f(2, 3) # x=2, a=3"
   ]
  },
  {
   "cell_type": "markdown",
   "id": "0035ee6b",
   "metadata": {},
   "source": [
    "We can be very clear about the second value by defining it as a keyword argument:\n",
    "\n"
   ]
  },
  {
   "cell_type": "code",
   "execution_count": 211,
   "id": "6218809a-f4e0-4217-b4ef-f9e5d864c88f",
   "metadata": {},
   "outputs": [
    {
     "data": {
      "text/plain": [
       "8"
      ]
     },
     "execution_count": 211,
     "metadata": {},
     "output_type": "execute_result"
    }
   ],
   "source": [
    "f(2, a=4)"
   ]
  },
  {
   "cell_type": "markdown",
   "id": "6329470e",
   "metadata": {},
   "source": [
    "Note, however, that since the first argument has no default value, it is called a positional argument, and so in this case you must *always* define the first argument as the value of x. This will be an error:\n",
    "\n"
   ]
  },
  {
   "cell_type": "code",
   "execution_count": 212,
   "id": "b51b3050",
   "metadata": {
    "tags": [
     "raises-exception"
    ]
   },
   "outputs": [
    {
     "ename": "SyntaxError",
     "evalue": "positional argument follows keyword argument (1354922235.py, line 1)",
     "output_type": "error",
     "traceback": [
      "\u001b[0;36m  Cell \u001b[0;32mIn[212], line 1\u001b[0;36m\u001b[0m\n\u001b[0;31m    f(a=4, 2)\u001b[0m\n\u001b[0m            ^\u001b[0m\n\u001b[0;31mSyntaxError\u001b[0m\u001b[0;31m:\u001b[0m positional argument follows keyword argument\n"
     ]
    }
   ],
   "source": [
    "f(a=4, 2)"
   ]
  },
  {
   "cell_type": "markdown",
   "id": "99d1cebb",
   "metadata": {},
   "source": [
    "You cannot put positional arguments after keyword arguments. This is ok, since every argument is defined by a keyword. This allows you to specify arguments in the order you want, and when there are lots of arguments makes it easier to remember what each one is for.\n",
    "\n"
   ]
  },
  {
   "cell_type": "code",
   "execution_count": 213,
   "id": "b74c82d8",
   "metadata": {},
   "outputs": [
    {
     "data": {
      "text/plain": [
       "8"
      ]
     },
     "execution_count": 213,
     "metadata": {},
     "output_type": "execute_result"
    }
   ],
   "source": [
    "f(a=4, x=2)"
   ]
  },
  {
   "cell_type": "markdown",
   "id": "132c1148",
   "metadata": {},
   "source": [
    "You should be careful about when and where you define variables. In most programming languages, there is a concept of *variable scope*, that is where is the variable defined, and what value does it have there. Here, `a` is defined outside the function, so the function inherits the value of `a` when it is defined. If you change `a`, you change the function. That can be confusing.\n",
    "\n"
   ]
  },
  {
   "cell_type": "code",
   "execution_count": 214,
   "id": "984cd5ba",
   "metadata": {},
   "outputs": [
    {
     "data": {
      "text/plain": [
       "4"
      ]
     },
     "execution_count": 214,
     "metadata": {},
     "output_type": "execute_result"
    }
   ],
   "source": [
    "a = 2\n",
    "\n",
    "def f(x):\n",
    "    y = a * x\n",
    "    return y\n",
    "\n",
    "f(2)"
   ]
  },
  {
   "cell_type": "code",
   "execution_count": 215,
   "id": "f129ef98",
   "metadata": {},
   "outputs": [
    {
     "data": {
      "text/plain": [
       "6"
      ]
     },
     "execution_count": 215,
     "metadata": {},
     "output_type": "execute_result"
    }
   ],
   "source": [
    "a = 3  # changing the global value of a changes the function.\n",
    "f(2)"
   ]
  },
  {
   "cell_type": "markdown",
   "id": "06f95edc",
   "metadata": {},
   "source": [
    "However, you can \"shadow\" a variable. In this example, we use an internal definition of `a` in the function, which replaces the external value of `a` *only inside the function*.\n",
    "\n"
   ]
  },
  {
   "cell_type": "code",
   "execution_count": 216,
   "id": "4a47727d",
   "metadata": {},
   "outputs": [
    {
     "data": {
      "text/plain": [
       "(6, 2)"
      ]
     },
     "execution_count": 216,
     "metadata": {},
     "output_type": "execute_result"
    }
   ],
   "source": [
    "a = 2\n",
    "\n",
    "def f(x):\n",
    "    a = 3  # This only changes a inside the function\n",
    "    y = a * x\n",
    "    return y\n",
    "\n",
    "f(2), a"
   ]
  },
  {
   "cell_type": "markdown",
   "id": "b2381c9d",
   "metadata": {},
   "source": [
    "The global value of `a` is unchanged.\n",
    "\n"
   ]
  },
  {
   "cell_type": "code",
   "execution_count": 217,
   "id": "c28d5838",
   "metadata": {},
   "outputs": [
    {
     "data": {
      "text/plain": [
       "2"
      ]
     },
     "execution_count": 217,
     "metadata": {},
     "output_type": "execute_result"
    }
   ],
   "source": [
    "a"
   ]
  },
  {
   "cell_type": "markdown",
   "id": "4fa798fe",
   "metadata": {},
   "source": [
    "A similar behavior is observed with arguments. Here the argument `a` will shadow (redefine) the global value of `a`, but only inside the function.\n",
    "\n"
   ]
  },
  {
   "cell_type": "code",
   "execution_count": 218,
   "id": "519bb974",
   "metadata": {},
   "outputs": [
    {
     "data": {
      "text/plain": [
       "(6, 2)"
      ]
     },
     "execution_count": 218,
     "metadata": {},
     "output_type": "execute_result"
    }
   ],
   "source": [
    "def f(x, a):\n",
    "    y = a * x\n",
    "    return y\n",
    "\n",
    "f(2, a=3), a"
   ]
  },
  {
   "cell_type": "markdown",
   "id": "02de8458",
   "metadata": {},
   "source": [
    "The external value of `a` is unchanged in this case.\n",
    "\n"
   ]
  },
  {
   "cell_type": "code",
   "execution_count": 219,
   "id": "0634ca83",
   "metadata": {},
   "outputs": [
    {
     "data": {
      "text/plain": [
       "2"
      ]
     },
     "execution_count": 219,
     "metadata": {},
     "output_type": "execute_result"
    }
   ],
   "source": [
    "a"
   ]
  },
  {
   "cell_type": "markdown",
   "id": "ae8f4414",
   "metadata": {},
   "source": [
    "The point here is to be careful with how you define and reuse variable names. In this example, it is more clear that we are using an internal definition of `a`, simply by prefixing the variable name with an underscore (you can also just give it another name, e.g. `b`).\n",
    "\n"
   ]
  },
  {
   "cell_type": "code",
   "execution_count": 220,
   "id": "43e894f9",
   "metadata": {},
   "outputs": [
    {
     "data": {
      "text/plain": [
       "(6, 2)"
      ]
     },
     "execution_count": 220,
     "metadata": {},
     "output_type": "execute_result"
    }
   ],
   "source": [
    "a = 2\n",
    "\n",
    "def f(x, _a):\n",
    "    a = _a\n",
    "    y = _a * x\n",
    "    return y\n",
    "\n",
    "f(2, _a=3), a"
   ]
  },
  {
   "cell_type": "markdown",
   "id": "d1fd68cc",
   "metadata": {},
   "source": [
    "### Functions that return multiple values\n",
    "\n"
   ]
  },
  {
   "cell_type": "markdown",
   "id": "d2aeffee",
   "metadata": {},
   "source": [
    "A function can return multiple values.\n",
    "\n"
   ]
  },
  {
   "cell_type": "code",
   "execution_count": 221,
   "id": "fdc74066",
   "metadata": {},
   "outputs": [
    {
     "name": "stdout",
     "output_type": "stream",
     "text": [
      "done\n"
     ]
    }
   ],
   "source": [
    "def f(x):\n",
    "    even = x % 2 == 0\n",
    "    return x, even  # This returns a tuple\n",
    "\n",
    "print('done')"
   ]
  },
  {
   "cell_type": "code",
   "execution_count": 222,
   "id": "db19050e",
   "metadata": {},
   "outputs": [
    {
     "data": {
      "text/plain": [
       "(2.0, True)"
      ]
     },
     "execution_count": 222,
     "metadata": {},
     "output_type": "execute_result"
    }
   ],
   "source": [
    "f(2.0)"
   ]
  },
  {
   "cell_type": "code",
   "execution_count": 223,
   "id": "c4ac4a94",
   "metadata": {},
   "outputs": [
    {
     "data": {
      "text/plain": [
       "tuple"
      ]
     },
     "execution_count": 223,
     "metadata": {},
     "output_type": "execute_result"
    }
   ],
   "source": [
    "type(f(2))"
   ]
  },
  {
   "cell_type": "code",
   "execution_count": 224,
   "id": "97f27b3b",
   "metadata": {},
   "outputs": [
    {
     "data": {
      "text/plain": [
       "(3, False)"
      ]
     },
     "execution_count": 224,
     "metadata": {},
     "output_type": "execute_result"
    }
   ],
   "source": [
    "f(3)"
   ]
  },
  {
   "cell_type": "markdown",
   "id": "b04cb5af",
   "metadata": {},
   "source": [
    "If you assign the output of the function to a variable, it will be a tuple.\n",
    "\n"
   ]
  },
  {
   "cell_type": "code",
   "execution_count": 225,
   "id": "31040cb8",
   "metadata": {},
   "outputs": [
    {
     "data": {
      "text/plain": [
       "(3, False)"
      ]
     },
     "execution_count": 225,
     "metadata": {},
     "output_type": "execute_result"
    }
   ],
   "source": [
    "z = f(3)\n",
    "z"
   ]
  },
  {
   "cell_type": "markdown",
   "id": "f145ce93",
   "metadata": {},
   "source": [
    "You can access the elements of the tuple by indexing.\n",
    "\n"
   ]
  },
  {
   "cell_type": "code",
   "execution_count": 226,
   "id": "f0c4c831",
   "metadata": {},
   "outputs": [
    {
     "name": "stdout",
     "output_type": "stream",
     "text": [
      "3\n",
      "False\n"
     ]
    }
   ],
   "source": [
    "print(z[0])\n",
    "print(z[1])"
   ]
  },
  {
   "cell_type": "markdown",
   "id": "4868118a",
   "metadata": {},
   "source": [
    "You can also *unpack* the tuple into variable names. Here there are two elements in the output, and we can assign them to two variable names.\n",
    "\n"
   ]
  },
  {
   "cell_type": "code",
   "execution_count": 227,
   "id": "869c5724",
   "metadata": {},
   "outputs": [
    {
     "name": "stdout",
     "output_type": "stream",
     "text": [
      "3\n",
      "False\n"
     ]
    }
   ],
   "source": [
    "value, even = f(3)\n",
    "print(value)\n",
    "print(even)"
   ]
  },
  {
   "cell_type": "markdown",
   "id": "811c8cbe",
   "metadata": {},
   "source": [
    "You can have the function return any kind of data type. If you just use comma-separated return values, you will return a tuple. If you put them in square brackets, you will return a list. In some cases you will want to return an array. When you write functions, you have to decide what they return, and then use them accordingly. When you use functions that others have written (e.g. from a library), you have to read the documentation to see what arguments are required, and what the function returns.\n",
    "\n"
   ]
  },
  {
   "cell_type": "markdown",
   "id": "de88d1e7",
   "metadata": {},
   "source": [
    "## Strings\n",
    "\n"
   ]
  },
  {
   "cell_type": "markdown",
   "id": "88a48cea",
   "metadata": {},
   "source": [
    "We will use strings a lot to present the output of our work. Suppose Amy has 10 apples, and she gives Bob 3 apples. How many apples does Amy have left?\n",
    "\n",
    "You could solve it like this:\n",
    "\n"
   ]
  },
  {
   "cell_type": "code",
   "execution_count": 228,
   "id": "7f6077bd",
   "metadata": {},
   "outputs": [
    {
     "name": "stdout",
     "output_type": "stream",
     "text": [
      "Amy has 7 apples left\n"
     ]
    }
   ],
   "source": [
    "print('Amy has', 10 - 3, 'apples left')"
   ]
  },
  {
   "cell_type": "markdown",
   "id": "2938501d",
   "metadata": {},
   "source": [
    "Or, this more clear code.\n",
    "\n"
   ]
  },
  {
   "cell_type": "code",
   "execution_count": 229,
   "id": "7fd65cad",
   "metadata": {},
   "outputs": [
    {
     "name": "stdout",
     "output_type": "stream",
     "text": [
      "Amy has 9 apples left.\n"
     ]
    }
   ],
   "source": [
    "original_count = 12\n",
    "count_given = 3\n",
    "apples_remaining = original_count - count_given\n",
    "print(f'Amy has {apples_remaining} apples left.')"
   ]
  },
  {
   "cell_type": "markdown",
   "id": "fb61e68c",
   "metadata": {},
   "source": [
    "Amy has 9 apples left."
   ]
  },
  {
   "cell_type": "markdown",
   "id": "842b6433",
   "metadata": {},
   "source": [
    "We have used a *formatted string* here. A formatted string looks like f'&#x2026;', and it has elements inside it in curly brackets that are replaced with values from the environment. We can format the values using formatting codes.\n",
    "\n",
    "The most common use will be formatting floats. If you just print these, you will get a lot of decimal places, more than is commonly needed for engineering problems.\n",
    "\n"
   ]
  },
  {
   "cell_type": "code",
   "execution_count": 230,
   "id": "f739b7d6",
   "metadata": {},
   "outputs": [
    {
     "name": "stdout",
     "output_type": "stream",
     "text": [
      "0.6666666666666666\n"
     ]
    }
   ],
   "source": [
    "a = 2 / 3\n",
    "print(a)"
   ]
  },
  {
   "cell_type": "markdown",
   "id": "67e58a93",
   "metadata": {},
   "source": [
    "We can print this as a float with only three decimal places like this:\n",
    "\n"
   ]
  },
  {
   "cell_type": "code",
   "execution_count": 231,
   "id": "df6dfd6c",
   "metadata": {},
   "outputs": [
    {
     "name": "stdout",
     "output_type": "stream",
     "text": [
      "a = 0.6667.\n"
     ]
    }
   ],
   "source": [
    "print(f'a = {a:.4f}.')"
   ]
  },
  {
   "cell_type": "markdown",
   "id": "b2f09b0e",
   "metadata": {},
   "source": [
    "The syntax here for float numbers is {varname:width.decimalsf}. We will usually set the width to 1, and just change the number of decimal places.\n",
    "\n",
    "There are other ways to format strings in Python, but I will try to only use this method. It is the most readable in my opinion (note: this only works in Python 3. For Python 2, you may have to use one of the other methods.).\n",
    "\n",
    "You can do some math inside these strings\n",
    "\n"
   ]
  },
  {
   "cell_type": "code",
   "execution_count": 232,
   "id": "5151146e",
   "metadata": {},
   "outputs": [
    {
     "name": "stdout",
     "output_type": "stream",
     "text": [
      "The residence time is 2.50 seconds.\n"
     ]
    }
   ],
   "source": [
    "volume = 10.0  # L\n",
    "flowrate = 4.0  # L/s\n",
    "tau = volume / flowrate\n",
    "print(f'The residence time is {tau:1.2f} seconds.')"
   ]
  },
  {
   "cell_type": "markdown",
   "id": "c2107104",
   "metadata": {},
   "source": [
    "You can also call functions in the formatted strings:\n",
    "\n"
   ]
  },
  {
   "cell_type": "code",
   "execution_count": 233,
   "id": "e105937a",
   "metadata": {},
   "outputs": [
    {
     "name": "stdout",
     "output_type": "stream",
     "text": [
      "The value of 1 / 40.1 to 4 decimal places is 0.0249.\n"
     ]
    }
   ],
   "source": [
    "def f(x):\n",
    "    return 1 / x\n",
    "\n",
    "X = 40.1\n",
    "print(f'The value of 1 / {X} to 4 decimal places is {f(X):1.4f}.')"
   ]
  },
  {
   "cell_type": "markdown",
   "id": "11220cc5",
   "metadata": {},
   "source": [
    "There are many ways to use these, and you should use the method that is most readable.\n",
    "\n",
    "We will see many examples of this in the class. For complete reference on the formatting codes see [https://docs.python.org/3.6/library/string.html#format-specification-mini-language](https://docs.python.org/3.6/library/string.html#format-specification-mini-language).\n",
    "\n"
   ]
  },
  {
   "cell_type": "markdown",
   "id": "fbcffe64",
   "metadata": {},
   "source": [
    "### Printing arrays\n",
    "\n"
   ]
  },
  {
   "cell_type": "markdown",
   "id": "712a54ac",
   "metadata": {},
   "source": [
    "Arrays are printed in full accuracy by default. This often results in hard to read outputs. Consider this array.\n",
    "\n"
   ]
  },
  {
   "cell_type": "code",
   "execution_count": 234,
   "id": "ae4f91db",
   "metadata": {},
   "outputs": [
    {
     "data": {
      "text/plain": [
       "array([1.000e-15, 3.333e+00, 6.667e+00, 1.000e+01])"
      ]
     },
     "execution_count": 234,
     "metadata": {},
     "output_type": "execute_result"
    }
   ],
   "source": [
    "import numpy as np\n",
    "\n",
    "x = np.linspace(0, 10, 4) + 1e-15\n",
    "x"
   ]
  },
  {
   "cell_type": "markdown",
   "id": "ddf6411d",
   "metadata": {},
   "source": [
    "You cannot use formatted strings on arrays like this:\n",
    "\n"
   ]
  },
  {
   "cell_type": "code",
   "execution_count": 235,
   "id": "5a624bac",
   "metadata": {
    "tags": [
     "raises-exception"
    ]
   },
   "outputs": [
    {
     "ename": "TypeError",
     "evalue": "unsupported format string passed to numpy.ndarray.__format__",
     "output_type": "error",
     "traceback": [
      "\u001b[0;31m---------------------------------------------------------------------------\u001b[0m",
      "\u001b[0;31mTypeError\u001b[0m                                 Traceback (most recent call last)",
      "Cell \u001b[0;32mIn[235], line 1\u001b[0m\n\u001b[0;32m----> 1\u001b[0m \u001b[38;5;28mprint\u001b[39m(\u001b[38;5;124mf\u001b[39m\u001b[38;5;124m'\u001b[39m\u001b[38;5;124mx = \u001b[39m\u001b[38;5;132;01m{\u001b[39;00mx\u001b[38;5;132;01m:\u001b[39;00m\u001b[38;5;124m1.3f\u001b[39m\u001b[38;5;132;01m}\u001b[39;00m\u001b[38;5;124m'\u001b[39m)\n",
      "\u001b[0;31mTypeError\u001b[0m: unsupported format string passed to numpy.ndarray.__format__"
     ]
    }
   ],
   "source": [
    "print(f'x = {x:1.3f}')"
   ]
  },
  {
   "cell_type": "markdown",
   "id": "235e25ff",
   "metadata": {},
   "source": [
    "You can use this to print individual elements of the array (you access them with [] indexing). First, we print the first element as a float:\n",
    "\n"
   ]
  },
  {
   "cell_type": "code",
   "execution_count": 236,
   "id": "844af8ed",
   "metadata": {},
   "outputs": [
    {
     "name": "stdout",
     "output_type": "stream",
     "text": [
      "x = 0.000\n"
     ]
    }
   ],
   "source": [
    "print(f'x = {x[0]:1.3f}')"
   ]
  },
  {
   "cell_type": "markdown",
   "id": "0aca1676",
   "metadata": {},
   "source": [
    "And in exponential (Scientific notation):\n",
    "\n"
   ]
  },
  {
   "cell_type": "code",
   "execution_count": 237,
   "id": "43299fea",
   "metadata": {},
   "outputs": [
    {
     "name": "stdout",
     "output_type": "stream",
     "text": [
      "x = 1.000e+01\n"
     ]
    }
   ],
   "source": [
    "print(f'x = {x[-1]:1.3e}')"
   ]
  },
  {
   "cell_type": "markdown",
   "id": "ccd91d18",
   "metadata": {},
   "source": [
    "Instead, you can control how arrays are *printed* with this line. Note this does not affect the value of the arrays, just how they are printed. The precision argument specifies how many decimal places, and suppress means do not print very small numbers, e.g. 1e-15 is approximately zero, so print it as zero. Note that this affects printing of all arrays globally.\n",
    "\n"
   ]
  },
  {
   "cell_type": "code",
   "execution_count": 238,
   "id": "a3f48fc8",
   "metadata": {},
   "outputs": [
    {
     "data": {
      "text/plain": [
       "array([1.000e-15, 3.333e+00, 6.667e+00, 1.000e+01])"
      ]
     },
     "execution_count": 238,
     "metadata": {},
     "output_type": "execute_result"
    }
   ],
   "source": [
    "np.set_printoptions(precision=3)\n",
    "x"
   ]
  },
  {
   "cell_type": "markdown",
   "id": "790a6d8a",
   "metadata": {},
   "source": [
    "It is possible to only *temporarily* affect how this prints with this syntax:\n",
    "\n"
   ]
  },
  {
   "cell_type": "code",
   "execution_count": 239,
   "id": "111f140f",
   "metadata": {},
   "outputs": [
    {
     "name": "stdout",
     "output_type": "stream",
     "text": [
      "[ 0.      3.3333  6.6667 10.    ]\n",
      "[1.000e-15 3.333e+00 6.667e+00 1.000e+01]\n"
     ]
    }
   ],
   "source": [
    "with np.printoptions(precision=4, suppress=True):\n",
    "    print(x)\n",
    "print(x)"
   ]
  },
  {
   "cell_type": "markdown",
   "id": "a0bbf117",
   "metadata": {},
   "source": [
    "Here we just illustrate that x[0] is not zero as printed. If it was, we would get a DivisionByZero error here.\n",
    "\n"
   ]
  },
  {
   "cell_type": "code",
   "execution_count": 240,
   "id": "0b6c1659",
   "metadata": {},
   "outputs": [
    {
     "data": {
      "text/plain": [
       "999999999999999.9"
      ]
     },
     "execution_count": 240,
     "metadata": {},
     "output_type": "execute_result"
    }
   ],
   "source": [
    "1 / x[0]"
   ]
  },
  {
   "cell_type": "code",
   "execution_count": 241,
   "id": "64096dba",
   "metadata": {
    "tags": [
     "raises-exception"
    ]
   },
   "outputs": [
    {
     "ename": "ZeroDivisionError",
     "evalue": "division by zero",
     "output_type": "error",
     "traceback": [
      "\u001b[0;31m---------------------------------------------------------------------------\u001b[0m",
      "\u001b[0;31mZeroDivisionError\u001b[0m                         Traceback (most recent call last)",
      "Cell \u001b[0;32mIn[241], line 1\u001b[0m\n\u001b[0;32m----> 1\u001b[0m \u001b[38;5;241;43m1\u001b[39;49m\u001b[43m \u001b[49m\u001b[38;5;241;43m/\u001b[39;49m\u001b[43m \u001b[49m\u001b[38;5;241;43m0\u001b[39;49m\n",
      "\u001b[0;31mZeroDivisionError\u001b[0m: division by zero"
     ]
    }
   ],
   "source": [
    "1 / 0"
   ]
  },
  {
   "cell_type": "markdown",
   "id": "47afac53",
   "metadata": {},
   "source": [
    "## Summary\n",
    "\n"
   ]
  },
  {
   "cell_type": "markdown",
   "id": "4166b207",
   "metadata": {
    "lines_to_next_cell": 2
   },
   "source": [
    "You should get comfortable with:\n",
    "\n",
    "-   Creating markdown cells in Jupyter notebooks that express the problem you are solving, and your approach to it.\n",
    "-   Creating code cells to evaluate Python expressions\n",
    "-   Defining functions with arguments\n",
    "-   Printing formatted strings containing your results\n",
    "\n",
    "Next time:\n",
    "We will start using functions to solve integrals and differential equations.\n",
    "\n"
   ]
  }
 ],
 "metadata": {
  "kernelspec": {
   "display_name": "Python 3 (ipykernel)",
   "language": "python",
   "name": "python3"
  },
  "language_info": {
   "codemirror_mode": {
    "name": "ipython",
    "version": 3
   },
   "file_extension": ".py",
   "mimetype": "text/x-python",
   "name": "python",
   "nbconvert_exporter": "python",
   "pygments_lexer": "ipython3",
   "version": "3.10.11"
  }
 },
 "nbformat": 4,
 "nbformat_minor": 5
}
